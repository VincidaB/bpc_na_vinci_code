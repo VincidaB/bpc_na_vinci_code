{
 "cells": [
  {
   "cell_type": "code",
   "execution_count": null,
   "metadata": {},
   "outputs": [],
   "source": [
    "from ultralytics import YOLO\n",
    "import os\n",
    "from IPython.display import Image, display\n",
    "from IPython import display\n",
    "import wandb\n",
    "from wandb.integration.ultralytics import add_wandb_callback\n",
    "%matplotlib inline\n",
    "\n",
    "\n",
    "display.clear_output()\n",
    "!yolo checks\n",
    "wandb.login()\n",
    "\n",
    "from ultralytics import settings\n",
    "settings.update({\"wandb\": True})"
   ]
  },
  {
   "cell_type": "code",
   "execution_count": null,
   "metadata": {},
   "outputs": [],
   "source": [
    "!curl -L https://github.com/ultralytics/assets/releases/download/v8.3.0/yolo11n.pt -o yolo11m.pt"
   ]
  },
  {
   "cell_type": "code",
   "execution_count": null,
   "metadata": {},
   "outputs": [],
   "source": [
    "model_path = 'yolo11m.pt'\n",
    "#dataset_path = '../../datasets/yolo_ipd/ipd.yaml'\n",
    "dataset_path = '/media/vincent/more/bpc_teamname/datasets/yolo_ipd/ipd.yaml'\n",
    "\n",
    "model = YOLO(model_path)\n",
    "\n",
    "# train\n",
    "model.train(data=dataset_path, epochs=1000, batch=8, project=\"yolo11_ipd\", name=\"yolov11m_ipd_train_on_test\")"
   ]
  },
  {
   "cell_type": "code",
   "execution_count": null,
   "metadata": {},
   "outputs": [],
   "source": [
    "import cv2\n",
    "import matplotlib.pyplot as plt\n",
    "import random\n",
    "import datetime\n",
    "# small inference test \n",
    "inf_model_path = 'yolo11_ipd/yolov11m_ipd_train_on_test/weights/best.pt'\n",
    "model = YOLO(inf_model_path)\n",
    "\n",
    "# images\n",
    "imgs = ['/media/vincent/more/bpc_teamname/datasets/ipd/train_pbr/000001/rgb_cam1/000001.jpg']\n",
    "#img_dirs = ['/media/vincent/more/bpc_teamname/datasets/ipd/val/000004/rgb_cam1/']\n",
    "img_dirs = ['/media/vincent/more/bpc_teamname/datasets/ipd/val/000004/rgb_cam1/', '/media/vincent/more/bpc_teamname/datasets/ipd/val/000012/rgb_cam1/']\n",
    "\n",
    "for img_dir in img_dirs:\n",
    "    for img in os.listdir(img_dir):\n",
    "        imgs.append(img_dir + img)\n",
    "\n",
    "\n",
    "# inference\n",
    "results = model(imgs)\n",
    "\n",
    "# display\n",
    "\n",
    "conf_thresh = 0.0\n",
    "labels = True\n",
    "save_images = True\n",
    "\n",
    "\n",
    "for result in results:\n",
    "  for box in result.boxes:\n",
    "    x1, y1, x2, y2 = map(int, box.xyxy[0].tolist())\n",
    "    cls = int(box.cls[0])\n",
    "    conf = box.conf[0]\n",
    "    if conf < conf_thresh:\n",
    "      continue\n",
    "    label = f\"{result.names[cls]}: {conf:.2f}\"\n",
    "    \n",
    "    # Draw the box with the class derived pseudo-random color\n",
    "    random.seed(cls)\n",
    "    color = (random.randint(0, 255), random.randint(0, 255), random.randint(0, 255))\n",
    "    cv2.rectangle(result.orig_img, (x1, y1), (x2, y2), color, 2)\n",
    "    \n",
    "    if labels:\n",
    "      # Draw the label with white text on a colored background\n",
    "      (text_width, text_height), baseline = cv2.getTextSize(label, cv2.FONT_HERSHEY_SIMPLEX, 0.9, 2)\n",
    "      cv2.rectangle(result.orig_img, (x1, y1 - text_height - 10), (x1 + text_width, y1), color, -1)\n",
    "      cv2.putText(result.orig_img, label, (x1, y1 - 5), cv2.FONT_HERSHEY_SIMPLEX, 0.9, (255, 255, 255), 2)\n",
    "\n",
    "  # Display the image using matplotlib\n",
    "  plt.figure(figsize=(10, 10))\n",
    "  plt.imshow(cv2.cvtColor(result.orig_img, cv2.COLOR_BGR2RGB))\n",
    "  plt.axis('off')\n",
    "  plt.show()\n",
    "\n",
    "\n",
    "  # save the images\n",
    "  if save_images :\n",
    "    dir = \"results\"\n",
    "    if not os.path.exists(dir):\n",
    "      os.makedirs(dir)\n",
    "    \n",
    "    today_and_time = datetime.datetime.now().strftime(\"%Y%m%d%H%M%S\")\n",
    "    orignal_name = result.path.split(\"/\")[-1].split(\".\")[0]\n",
    "    dest = f\"{dir}/{orignal_name}_{today_and_time}.png\"\n",
    "    cv2.imwrite(dest, result.orig_img)\n"
   ]
  }
 ],
 "metadata": {
  "kernelspec": {
   "display_name": "yolo11_method",
   "language": "python",
   "name": "python3"
  },
  "language_info": {
   "codemirror_mode": {
    "name": "ipython",
    "version": 3
   },
   "file_extension": ".py",
   "mimetype": "text/x-python",
   "name": "python",
   "nbconvert_exporter": "python",
   "pygments_lexer": "ipython3",
   "version": "3.9.21"
  }
 },
 "nbformat": 4,
 "nbformat_minor": 2
}
